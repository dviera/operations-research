{
 "cells": [
  {
   "cell_type": "code",
   "execution_count": 1,
   "metadata": {},
   "outputs": [],
   "source": [
    "using JuMP\n",
    "using GLPK\n",
    "using LinearAlgebra"
   ]
  },
  {
   "cell_type": "code",
   "execution_count": 2,
   "metadata": {},
   "outputs": [],
   "source": [
    "n = 8\n",
    "queen_model =  Model(GLPK.Optimizer)\n",
    "@variable(queen_model, x[1:n, 1:n], Bin)\n",
    "@objective(queen_model, Max, sum(x[i,j] for i = 1:n for j = 1:n))\n",
    "@constraint(queen_model, col[j = 1:n], sum(x[i,j] for i = 1:n) <= 1)\n",
    "@constraint(queen_model, row[i = 1:n], sum(x[i,j] for j = 1:n) <= 1)\n",
    "\n",
    "for i in range(-n+1, stop = n-1)\n",
    "    @constraint(queen_model, sum(x .* LinearAlgebra.diagm(i => fill(1, (n - abs(i))))) <= 1)\n",
    "end\n",
    "\n",
    "for i in range(-n+1, stop = n-1)\n",
    "    @constraint(queen_model, sum(x .* reverse(LinearAlgebra.diagm(i => fill(1, (n - abs(i)))), dims = 2)) <= 1)\n",
    "end"
   ]
  },
  {
   "cell_type": "code",
   "execution_count": 3,
   "metadata": {},
   "outputs": [
    {
     "name": "stdout",
     "output_type": "stream",
     "text": [
      "Max x[1,1] + x[1,2] + x[1,3] + x[1,4] + x[1,5] + x[1,6] + x[1,7] + x[1,8] + x[2,1] + x[2,2] + x[2,3] + x[2,4] + x[2,5] + x[2,6] + x[2,7] + x[2,8] + x[3,1] + x[3,2] + x[3,3] + x[3,4] + x[3,5] + x[3,6] + x[3,7] + x[3,8] + x[4,1] + x[4,2] + x[4,3] + x[4,4] + x[4,5] + x[4,6] + x[4,7] + x[4,8] + x[5,1] + x[5,2] + x[5,3] + x[5,4] + x[5,5] + x[5,6] + x[5,7] + x[5,8] + x[6,1] + x[6,2] + x[6,3] + x[6,4] + x[6,5] + x[6,6] + x[6,7] + x[6,8] + x[7,1] + x[7,2] + x[7,3] + x[7,4] + x[7,5] + x[7,6] + x[7,7] + x[7,8] + x[8,1] + x[8,2] + x[8,3] + x[8,4] + x[8,5] + x[8,6] + x[8,7] + x[8,8]\n",
      "Subject to\n",
      " col[1] : x[1,1] + x[2,1] + x[3,1] + x[4,1] + x[5,1] + x[6,1] + x[7,1] + x[8,1] <= 1.0\n",
      " col[2] : x[1,2] + x[2,2] + x[3,2] + x[4,2] + x[5,2] + x[6,2] + x[7,2] + x[8,2] <= 1.0\n",
      " col[3] : x[1,3] + x[2,3] + x[3,3] + x[4,3] + x[5,3] + x[6,3] + x[7,3] + x[8,3] <= 1.0\n",
      " col[4] : x[1,4] + x[2,4] + x[3,4] + x[4,4] + x[5,4] + x[6,4] + x[7,4] + x[8,4] <= 1.0\n",
      " col[5] : x[1,5] + x[2,5] + x[3,5] + x[4,5] + x[5,5] + x[6,5] + x[7,5] + x[8,5] <= 1.0\n",
      " col[6] : x[1,6] + x[2,6] + x[3,6] + x[4,6] + x[5,6] + x[6,6] + x[7,6] + x[8,6] <= 1.0\n",
      " col[7] : x[1,7] + x[2,7] + x[3,7] + x[4,7] + x[5,7] + x[6,7] + x[7,7] + x[8,7] <= 1.0\n",
      " col[8] : x[1,8] + x[2,8] + x[3,8] + x[4,8] + x[5,8] + x[6,8] + x[7,8] + x[8,8] <= 1.0\n",
      " row[1] : x[1,1] + x[1,2] + x[1,3] + x[1,4] + x[1,5] + x[1,6] + x[1,7] + x[1,8] <= 1.0\n",
      " row[2] : x[2,1] + x[2,2] + x[2,3] + x[2,4] + x[2,5] + x[2,6] + x[2,7] + x[2,8] <= 1.0\n",
      " row[3] : x[3,1] + x[3,2] + x[3,3] + x[3,4] + x[3,5] + x[3,6] + x[3,7] + x[3,8] <= 1.0\n",
      " row[4] : x[4,1] + x[4,2] + x[4,3] + x[4,4] + x[4,5] + x[4,6] + x[4,7] + x[4,8] <= 1.0\n",
      " row[5] : x[5,1] + x[5,2] + x[5,3] + x[5,4] + x[5,5] + x[5,6] + x[5,7] + x[5,8] <= 1.0\n",
      " row[6] : x[6,1] + x[6,2] + x[6,3] + x[6,4] + x[6,5] + x[6,6] + x[6,7] + x[6,8] <= 1.0\n",
      " row[7] : x[7,1] + x[7,2] + x[7,3] + x[7,4] + x[7,5] + x[7,6] + x[7,7] + x[7,8] <= 1.0\n",
      " row[8] : x[8,1] + x[8,2] + x[8,3] + x[8,4] + x[8,5] + x[8,6] + x[8,7] + x[8,8] <= 1.0\n",
      " x[8,1] <= 1.0\n",
      " x[7,1] + x[8,2] <= 1.0\n",
      " x[6,1] + x[7,2] + x[8,3] <= 1.0\n",
      " x[5,1] + x[6,2] + x[7,3] + x[8,4] <= 1.0\n",
      " x[4,1] + x[5,2] + x[6,3] + x[7,4] + x[8,5] <= 1.0\n",
      " x[3,1] + x[4,2] + x[5,3] + x[6,4] + x[7,5] + x[8,6] <= 1.0\n",
      " x[2,1] + x[3,2] + x[4,3] + x[5,4] + x[6,5] + x[7,6] + x[8,7] <= 1.0\n",
      " x[1,1] + x[2,2] + x[3,3] + x[4,4] + x[5,5] + x[6,6] + x[7,7] + x[8,8] <= 1.0\n",
      " x[1,2] + x[2,3] + x[3,4] + x[4,5] + x[5,6] + x[6,7] + x[7,8] <= 1.0\n",
      " x[1,3] + x[2,4] + x[3,5] + x[4,6] + x[5,7] + x[6,8] <= 1.0\n",
      " x[1,4] + x[2,5] + x[3,6] + x[4,7] + x[5,8] <= 1.0\n",
      " x[1,5] + x[2,6] + x[3,7] + x[4,8] <= 1.0\n",
      " x[1,6] + x[2,7] + x[3,8] <= 1.0\n",
      " x[1,7] + x[2,8] <= 1.0\n",
      " x[1,8] <= 1.0\n",
      " x[8,8] <= 1.0\n",
      " x[8,7] + x[7,8] <= 1.0\n",
      " x[8,6] + x[7,7] + x[6,8] <= 1.0\n",
      " x[8,5] + x[7,6] + x[6,7] + x[5,8] <= 1.0\n",
      " x[8,4] + x[7,5] + x[6,6] + x[5,7] + x[4,8] <= 1.0\n",
      " x[8,3] + x[7,4] + x[6,5] + x[5,6] + x[4,7] + x[3,8] <= 1.0\n",
      " x[8,2] + x[7,3] + x[6,4] + x[5,5] + x[4,6] + x[3,7] + x[2,8] <= 1.0\n",
      " x[8,1] + x[7,2] + x[6,3] + x[5,4] + x[4,5] + x[3,6] + x[2,7] + x[1,8] <= 1.0\n",
      " x[7,1] + x[6,2] + x[5,3] + x[4,4] + x[3,5] + x[2,6] + x[1,7] <= 1.0\n",
      " x[6,1] + x[5,2] + x[4,3] + x[3,4] + x[2,5] + x[1,6] <= 1.0\n",
      " x[5,1] + x[4,2] + x[3,3] + x[2,4] + x[1,5] <= 1.0\n",
      " x[4,1] + x[3,2] + x[2,3] + x[1,4] <= 1.0\n",
      " x[3,1] + x[2,2] + x[1,3] <= 1.0\n",
      " x[2,1] + x[1,2] <= 1.0\n",
      " x[1,1] <= 1.0\n",
      " x[1,1] binary\n",
      " x[2,1] binary\n",
      " x[3,1] binary\n",
      " x[4,1] binary\n",
      " x[5,1] binary\n",
      " x[6,1] binary\n",
      " x[7,1] binary\n",
      " x[8,1] binary\n",
      " x[1,2] binary\n",
      " x[2,2] binary\n",
      " x[3,2] binary\n",
      " x[4,2] binary\n",
      " x[5,2] binary\n",
      " x[6,2] binary\n",
      " x[7,2] binary\n",
      " x[8,2] binary\n",
      " x[1,3] binary\n",
      " x[2,3] binary\n",
      " x[3,3] binary\n",
      " x[4,3] binary\n",
      " x[5,3] binary\n",
      " x[6,3] binary\n",
      " x[7,3] binary\n",
      " x[8,3] binary\n",
      " x[1,4] binary\n",
      " x[2,4] binary\n",
      " x[3,4] binary\n",
      " x[4,4] binary\n",
      " x[5,4] binary\n",
      " x[6,4] binary\n",
      " x[7,4] binary\n",
      " x[8,4] binary\n",
      " x[1,5] binary\n",
      " x[2,5] binary\n",
      " x[3,5] binary\n",
      " x[4,5] binary\n",
      " x[5,5] binary\n",
      " x[6,5] binary\n",
      " x[7,5] binary\n",
      " x[8,5] binary\n",
      " x[1,6] binary\n",
      " x[2,6] binary\n",
      " x[3,6] binary\n",
      " x[4,6] binary\n",
      " x[5,6] binary\n",
      " x[6,6] binary\n",
      " x[7,6] binary\n",
      " x[8,6] binary\n",
      " x[1,7] binary\n",
      " x[2,7] binary\n",
      " x[3,7] binary\n",
      " x[4,7] binary\n",
      " x[5,7] binary\n",
      " x[6,7] binary\n",
      " x[7,7] binary\n",
      " x[8,7] binary\n",
      " x[1,8] binary\n",
      " x[2,8] binary\n",
      " x[3,8] binary\n",
      " x[4,8] binary\n",
      " x[5,8] binary\n",
      " x[6,8] binary\n",
      " x[7,8] binary\n",
      " x[8,8] binary\n",
      "\n"
     ]
    }
   ],
   "source": [
    "println(queen_model)"
   ]
  },
  {
   "cell_type": "code",
   "execution_count": 4,
   "metadata": {},
   "outputs": [],
   "source": [
    "JuMP.optimize!(queen_model)"
   ]
  },
  {
   "cell_type": "code",
   "execution_count": 5,
   "metadata": {},
   "outputs": [
    {
     "data": {
      "text/plain": [
       "OPTIMAL::TerminationStatusCode = 1"
      ]
     },
     "execution_count": 5,
     "metadata": {},
     "output_type": "execute_result"
    }
   ],
   "source": [
    "JuMP.termination_status(queen_model)"
   ]
  },
  {
   "cell_type": "code",
   "execution_count": 6,
   "metadata": {},
   "outputs": [
    {
     "data": {
      "text/plain": [
       "8.0"
      ]
     },
     "execution_count": 6,
     "metadata": {},
     "output_type": "execute_result"
    }
   ],
   "source": [
    "JuMP.objective_value(queen_model)"
   ]
  },
  {
   "cell_type": "code",
   "execution_count": 7,
   "metadata": {},
   "outputs": [
    {
     "data": {
      "text/plain": [
       "8×8 Array{Float64,2}:\n",
       " 0.0  0.0  1.0  0.0  0.0  0.0  0.0  0.0\n",
       " 0.0  0.0  0.0  0.0  0.0  1.0  0.0  0.0\n",
       " 0.0  0.0  0.0  0.0  0.0  0.0  0.0  1.0\n",
       " 0.0  1.0  0.0  0.0  0.0  0.0  0.0  0.0\n",
       " 0.0  0.0  0.0  1.0  0.0  0.0  0.0  0.0\n",
       " 1.0  0.0  0.0  0.0  0.0  0.0  0.0  0.0\n",
       " 0.0  0.0  0.0  0.0  0.0  0.0  1.0  0.0\n",
       " 0.0  0.0  0.0  0.0  1.0  0.0  0.0  0.0"
      ]
     },
     "execution_count": 7,
     "metadata": {},
     "output_type": "execute_result"
    }
   ],
   "source": [
    "JuMP.value.(x)"
   ]
  },
  {
   "cell_type": "code",
   "execution_count": 8,
   "metadata": {},
   "outputs": [
    {
     "name": "stdout",
     "output_type": "stream",
     "text": [
      " -  -  👑  -  -  -  -  - \n",
      " -  -  -  -  -  👑  -  - \n",
      " -  -  -  -  -  -  -  👑 \n",
      " -  👑  -  -  -  -  -  - \n",
      " -  -  -  👑  -  -  -  - \n",
      " 👑  -  -  -  -  -  -  - \n",
      " -  -  -  -  -  -  👑  - \n",
      " -  -  -  -  👑  -  -  - \n"
     ]
    }
   ],
   "source": [
    "for i in 1:n\n",
    "    for j in 1:n\n",
    "        if JuMP.value.(x)[i,j] != 0\n",
    "            print(\" \", :👑, \" \")\n",
    "        else\n",
    "            print(\" \", \"-\" , \" \")\n",
    "        end\n",
    "    end\n",
    "    println()\n",
    "end"
   ]
  }
 ],
 "metadata": {
  "kernelspec": {
   "display_name": "Julia 1.5.0",
   "language": "julia",
   "name": "julia-1.5"
  },
  "language_info": {
   "file_extension": ".jl",
   "mimetype": "application/julia",
   "name": "julia",
   "version": "1.5.0"
  }
 },
 "nbformat": 4,
 "nbformat_minor": 4
}
