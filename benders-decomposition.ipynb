{
 "cells": [
  {
   "cell_type": "code",
   "execution_count": 1,
   "metadata": {},
   "outputs": [],
   "source": [
    "using JuMP\n",
    "using GLPK\n",
    "using LinearAlgebra"
   ]
  },
  {
   "cell_type": "markdown",
   "metadata": {},
   "source": [
    "### Reference\n",
    "- Integer Programming and Network Flows T.C. Hu\n",
    "- http://eaton.math.rpi.edu/faculty/Mitchell/courses/matp6620/notesMATP6620/lecture23/23B_bendersdecomposition.pdf\n",
    "- http://eaton.math.rpi.edu/faculty/Mitchell/courses/matp6620/notesMATP6620/lecture23/23C_benders_egbeamer.pdf"
   ]
  },
  {
   "cell_type": "markdown",
   "metadata": {},
   "source": [
    "\\begin{array}{ll}\n",
    "\\tag{1}\n",
    "\\\\maximize & c_1x + c_2y\n",
    "\\\\st \\\\ & A_1x + A_2y \\leq b \\\\\n",
    "& x \\geq 0, y \\in Y\n",
    "\\end{array}\n",
    "\n",
    "For a given value of $y$, problem (1) becomes:\n",
    "\n",
    "\\begin{array}{ll}\n",
    "\\tag{2}\n",
    "\\\\maximize & c_1x\n",
    "\\\\st \\\\ & A_1x  \\leq b -  A_2y\\\\\n",
    "& x \\geq 0\n",
    "\\end{array}\n",
    "\n",
    "The dual problem of (3) is\n",
    "\n",
    "\\begin{array}{ll}\n",
    "\\tag{2}\n",
    "\\\\minimize & u(b -  A_2y)\n",
    "\\\\st \\\\ & A_1^Tu  \\geq c_1\\\\\n",
    "& u \\geq 0\n",
    "\\end{array}"
   ]
  },
  {
   "cell_type": "markdown",
   "metadata": {},
   "source": [
    "### Manual Solution"
   ]
  },
  {
   "cell_type": "code",
   "execution_count": 2,
   "metadata": {},
   "outputs": [
    {
     "data": {
      "text/plain": [
       "2×1 Adjoint{Int64,Array{Int64,2}}:\n",
       " -15\n",
       " -10"
      ]
     },
     "execution_count": 2,
     "metadata": {},
     "output_type": "execute_result"
    }
   ],
   "source": [
    "A1 = [\n",
    "    1 0 1 0;\n",
    "    1 0 0 1;\n",
    "    0 1 1 0;\n",
    "    0 1 0 1;\n",
    "    0 0 0 0;\n",
    "    1 0 0 0;\n",
    "    0 1 0 0;\n",
    "    0 0 1 0;\n",
    "    0 0 0 1\n",
    "    ]\n",
    "\n",
    "A2 = [\n",
    "    0 0;\n",
    "    0 0;\n",
    "    0 0;\n",
    "    0 0;\n",
    "    -1 -1;\n",
    "    -1 0;\n",
    "    -1 0;\n",
    "    0 -1;\n",
    "    0 -1  \n",
    "    ]\n",
    "\n",
    "b = [1 1 1 1 -1 0 0 0 0]'\n",
    "\n",
    "c1 = [8 9 5 6]'\n",
    "\n",
    "c2 = [-15 -10]'"
   ]
  },
  {
   "cell_type": "code",
   "execution_count": 3,
   "metadata": {},
   "outputs": [
    {
     "data": {
      "text/plain": [
       "DSP (generic function with 1 method)"
      ]
     },
     "execution_count": 3,
     "metadata": {},
     "output_type": "execute_result"
    }
   ],
   "source": [
    "# DUAL SUBPROBLEM\n",
    "\n",
    "function DSP(A1, A2, b, c1, y)\n",
    "    m, n =  size(A2)\n",
    "    \n",
    "    dsp = Model(GLPK.Optimizer)\n",
    "    @variable(dsp, u[1:m] >= 0)\n",
    "    refCon = @constraint(dsp, A1' * u .>= c1)\n",
    "    @objective(dsp, Min, LinearAlgebra.dot(u, (b .- A2 * y)))\n",
    "    \n",
    "    optimize!(dsp)\n",
    "    st = termination_status(dsp)\n",
    "    uVal = value.(u)\n",
    "    objDSP = JuMP.getobjectivevalue(dsp)\n",
    "    \n",
    "    return st, u, uVal, objDSP, refCon\n",
    "end"
   ]
  },
  {
   "cell_type": "code",
   "execution_count": 4,
   "metadata": {},
   "outputs": [
    {
     "data": {
      "text/latex": [
       "$$ \\begin{alignat*}{1}\\max\\quad & -15 y_{1} - 10 y_{2} + t\\\\\n",
       "\\text{Subject to} \\quad & y_{1} \\geq 0.0\\\\\n",
       " & y_{2} \\geq 0.0\\\\\n",
       " & y_{1} \\leq 1.0e6\\\\\n",
       " & y_{2} \\leq 1.0e6\\\\\n",
       " & t \\leq 1.0e6\\\\\n",
       " & y_{1} binary\\\\\n",
       " & y_{2} binary\\\\\n",
       "\\end{alignat*}\n",
       " $$"
      ],
      "text/plain": [
       "A JuMP Model\n",
       "Maximization problem with:\n",
       "Variables: 3\n",
       "Objective function type: GenericAffExpr{Float64,VariableRef}\n",
       "`VariableRef`-in-`MathOptInterface.GreaterThan{Float64}`: 2 constraints\n",
       "`VariableRef`-in-`MathOptInterface.LessThan{Float64}`: 3 constraints\n",
       "`VariableRef`-in-`MathOptInterface.ZeroOne`: 2 constraints\n",
       "Model mode: AUTOMATIC\n",
       "CachingOptimizer state: EMPTY_OPTIMIZER\n",
       "Solver name: GLPK\n",
       "Names registered in the model: t, y"
      ]
     },
     "execution_count": 4,
     "metadata": {},
     "output_type": "execute_result"
    }
   ],
   "source": [
    "m, n = size(A2)\n",
    "\n",
    "master = Model(GLPK.Optimizer)\n",
    "@variable(master, 0 <= y[1:n] <= 1e6, Bin) # add some limits (problem dependant)\n",
    "@variable(master, t <= 1e6) # t is unrestricted - add some limits (problem dependant)\n",
    "@objective(master, Max, LinearAlgebra.dot(c2, y) + t)\n",
    "master"
   ]
  },
  {
   "cell_type": "code",
   "execution_count": 5,
   "metadata": {},
   "outputs": [],
   "source": [
    "optimize!(master)"
   ]
  },
  {
   "cell_type": "code",
   "execution_count": 6,
   "metadata": {},
   "outputs": [
    {
     "data": {
      "text/plain": [
       "OPTIMAL::TerminationStatusCode = 1"
      ]
     },
     "execution_count": 6,
     "metadata": {},
     "output_type": "execute_result"
    }
   ],
   "source": [
    "termination_status(master)"
   ]
  },
  {
   "cell_type": "code",
   "execution_count": 7,
   "metadata": {},
   "outputs": [
    {
     "data": {
      "text/plain": [
       "2-element Array{Float64,1}:\n",
       " 0.0\n",
       " 0.0"
      ]
     },
     "execution_count": 7,
     "metadata": {},
     "output_type": "execute_result"
    }
   ],
   "source": [
    "value.(y)"
   ]
  },
  {
   "cell_type": "code",
   "execution_count": 8,
   "metadata": {},
   "outputs": [
    {
     "data": {
      "text/plain": [
       "1.0e6"
      ]
     },
     "execution_count": 8,
     "metadata": {},
     "output_type": "execute_result"
    }
   ],
   "source": [
    "JuMP.getobjectivevalue(master)"
   ]
  },
  {
   "cell_type": "code",
   "execution_count": 9,
   "metadata": {},
   "outputs": [
    {
     "data": {
      "text/plain": [
       "(MathOptInterface.DUAL_INFEASIBLE, VariableRef[u[1], u[2], u[3], u[4], u[5], u[6], u[7], u[8], u[9]], [NaN, NaN, NaN, NaN, 1.0, NaN, NaN, NaN, NaN], 17.0, ConstraintRef{Model,MathOptInterface.ConstraintIndex{MathOptInterface.ScalarAffineFunction{Float64},MathOptInterface.GreaterThan{Float64}},ScalarShape}[u[1] + u[2] + u[6] >= 8.0; u[3] + u[4] + u[7] >= 9.0; u[1] + u[3] + u[8] >= 5.0; u[2] + u[4] + u[9] >= 6.0])"
      ]
     },
     "execution_count": 9,
     "metadata": {},
     "output_type": "execute_result"
    }
   ],
   "source": [
    "st, u, uVal, objDSP, refCon = DSP(A1, A2, b, c1, value.(y))"
   ]
  },
  {
   "cell_type": "code",
   "execution_count": 10,
   "metadata": {},
   "outputs": [
    {
     "data": {
      "text/latex": [
       "$ y_{1} + y_{2} \\geq 1.0 $"
      ],
      "text/plain": [
       "y[1] + y[2] >= 1.0"
      ]
     },
     "execution_count": 10,
     "metadata": {},
     "output_type": "execute_result"
    }
   ],
   "source": [
    "# Because the problem is DUAL_INFEASIBLE, add feasibility cut to the master\n",
    "replace!(uVal, NaN => 0.0)\n",
    "\n",
    "@constraint(master, LinearAlgebra.dot(uVal, (b .- A2 * y)) >= 0)"
   ]
  },
  {
   "cell_type": "code",
   "execution_count": 11,
   "metadata": {},
   "outputs": [
    {
     "data": {
      "text/plain": [
       "OPTIMAL::TerminationStatusCode = 1"
      ]
     },
     "execution_count": 11,
     "metadata": {},
     "output_type": "execute_result"
    }
   ],
   "source": [
    "optimize!(master)\n",
    "termination_status(master)"
   ]
  },
  {
   "cell_type": "code",
   "execution_count": 12,
   "metadata": {},
   "outputs": [
    {
     "data": {
      "text/plain": [
       "2-element Array{Float64,1}:\n",
       " 0.0\n",
       " 1.0"
      ]
     },
     "execution_count": 12,
     "metadata": {},
     "output_type": "execute_result"
    }
   ],
   "source": [
    "value.(y)"
   ]
  },
  {
   "cell_type": "code",
   "execution_count": 13,
   "metadata": {},
   "outputs": [
    {
     "data": {
      "text/plain": [
       "999990.0"
      ]
     },
     "execution_count": 13,
     "metadata": {},
     "output_type": "execute_result"
    }
   ],
   "source": [
    "JuMP.getobjectivevalue(master)"
   ]
  },
  {
   "cell_type": "code",
   "execution_count": 14,
   "metadata": {},
   "outputs": [
    {
     "data": {
      "text/plain": [
       "(MathOptInterface.OPTIMAL, VariableRef[u[1], u[2], u[3], u[4], u[5], u[6], u[7], u[8], u[9]], [5.0, 0.0, 0.0, 6.0, 0.0, 3.0, 3.0, 0.0, 0.0], 11.0, ConstraintRef{Model,MathOptInterface.ConstraintIndex{MathOptInterface.ScalarAffineFunction{Float64},MathOptInterface.GreaterThan{Float64}},ScalarShape}[u[1] + u[2] + u[6] >= 8.0; u[3] + u[4] + u[7] >= 9.0; u[1] + u[3] + u[8] >= 5.0; u[2] + u[4] + u[9] >= 6.0])"
      ]
     },
     "execution_count": 14,
     "metadata": {},
     "output_type": "execute_result"
    }
   ],
   "source": [
    "st, u, uVal, objDSP, refCon = DSP(A1, A2, b, c1, value.(y))"
   ]
  },
  {
   "cell_type": "code",
   "execution_count": 15,
   "metadata": {},
   "outputs": [
    {
     "data": {
      "text/plain": [
       "4×1 Array{Float64,2}:\n",
       " 0.0\n",
       " 0.0\n",
       " 1.0\n",
       " 1.0"
      ]
     },
     "execution_count": 15,
     "metadata": {},
     "output_type": "execute_result"
    }
   ],
   "source": [
    "JuMP.getdual.(refCon)"
   ]
  },
  {
   "cell_type": "code",
   "execution_count": 16,
   "metadata": {},
   "outputs": [
    {
     "data": {
      "text/latex": [
       "$$ \\begin{alignat*}{1}\\max\\quad & -15 y_{1} - 10 y_{2} + t\\\\\n",
       "\\text{Subject to} \\quad & y_{1} + y_{2} \\geq 1.0\\\\\n",
       " & 6 y_{1} - t \\geq -11.0\\\\\n",
       " & y_{1} \\geq 0.0\\\\\n",
       " & y_{2} \\geq 0.0\\\\\n",
       " & y_{1} \\leq 1.0e6\\\\\n",
       " & y_{2} \\leq 1.0e6\\\\\n",
       " & t \\leq 1.0e6\\\\\n",
       " & y_{1} binary\\\\\n",
       " & y_{2} binary\\\\\n",
       "\\end{alignat*}\n",
       " $$"
      ],
      "text/plain": [
       "A JuMP Model\n",
       "Maximization problem with:\n",
       "Variables: 3\n",
       "Objective function type: GenericAffExpr{Float64,VariableRef}\n",
       "`GenericAffExpr{Float64,VariableRef}`-in-`MathOptInterface.GreaterThan{Float64}`: 2 constraints\n",
       "`VariableRef`-in-`MathOptInterface.GreaterThan{Float64}`: 2 constraints\n",
       "`VariableRef`-in-`MathOptInterface.LessThan{Float64}`: 3 constraints\n",
       "`VariableRef`-in-`MathOptInterface.ZeroOne`: 2 constraints\n",
       "Model mode: AUTOMATIC\n",
       "CachingOptimizer state: ATTACHED_OPTIMIZER\n",
       "Solver name: GLPK\n",
       "Names registered in the model: t, y"
      ]
     },
     "execution_count": 16,
     "metadata": {},
     "output_type": "execute_result"
    }
   ],
   "source": [
    "# objecive value DSP 11 < t = 999990.0 - continue\n",
    "# problem is optimal, add optimality constraint\n",
    "replace!(uVal, NaN => 0.0)\n",
    "\n",
    "@constraint(master, LinearAlgebra.dot(uVal, (b .- A2 * y)) >= t)\n",
    "master\n"
   ]
  },
  {
   "cell_type": "code",
   "execution_count": 17,
   "metadata": {},
   "outputs": [
    {
     "data": {
      "text/plain": [
       "OPTIMAL::TerminationStatusCode = 1"
      ]
     },
     "execution_count": 17,
     "metadata": {},
     "output_type": "execute_result"
    }
   ],
   "source": [
    "optimize!(master)\n",
    "termination_status(master)"
   ]
  },
  {
   "cell_type": "code",
   "execution_count": 18,
   "metadata": {},
   "outputs": [
    {
     "data": {
      "text/plain": [
       "([1.0, 0.0], 17.0)"
      ]
     },
     "execution_count": 18,
     "metadata": {},
     "output_type": "execute_result"
    }
   ],
   "source": [
    "value.(y), value.(t)"
   ]
  },
  {
   "cell_type": "code",
   "execution_count": 19,
   "metadata": {},
   "outputs": [
    {
     "data": {
      "text/plain": [
       "(MathOptInterface.OPTIMAL, VariableRef[u[1], u[2], u[3], u[4], u[5], u[6], u[7], u[8], u[9]], [5.0, 3.0, 0.0, 9.0, 0.0, 0.0, 0.0, 0.0, 0.0], 17.0, ConstraintRef{Model,MathOptInterface.ConstraintIndex{MathOptInterface.ScalarAffineFunction{Float64},MathOptInterface.GreaterThan{Float64}},ScalarShape}[u[1] + u[2] + u[6] >= 8.0; u[3] + u[4] + u[7] >= 9.0; u[1] + u[3] + u[8] >= 5.0; u[2] + u[4] + u[9] >= 6.0])"
      ]
     },
     "execution_count": 19,
     "metadata": {},
     "output_type": "execute_result"
    }
   ],
   "source": [
    "st, u, uVal, objDSP, refCon = DSP(A1, A2, b, c1, value.(y))"
   ]
  },
  {
   "cell_type": "code",
   "execution_count": 20,
   "metadata": {},
   "outputs": [],
   "source": [
    "# objecive value DSP 17 == t = 17 - stop - optimal value"
   ]
  },
  {
   "cell_type": "markdown",
   "metadata": {},
   "source": [
    "### All together"
   ]
  },
  {
   "cell_type": "code",
   "execution_count": 21,
   "metadata": {},
   "outputs": [
    {
     "data": {
      "text/plain": [
       "benders (generic function with 1 method)"
      ]
     },
     "execution_count": 21,
     "metadata": {},
     "output_type": "execute_result"
    }
   ],
   "source": [
    "function benders(;A1, A2, b, c1, c2, eps = 0.001)\n",
    "\n",
    "    m, n = size(A2)\n",
    "\n",
    "    master = Model(GLPK.Optimizer)\n",
    "    @variable(master, 0 <= y[1:n] <= 1e6, Bin) # add some limits (problem dependant)\n",
    "    @variable(master, t <= 1e6) # t is unrestricted - add some limits (problem dependant)\n",
    "    @objective(master, Max, LinearAlgebra.dot(c2, y) + t)\n",
    "\n",
    "    optimize!(master)\n",
    "    t_value = JuMP.value.(t)\n",
    "\n",
    "    st, u, uVal, objDSP, refCon = DSP(A1, A2, b, c1, value.(y))\n",
    "\n",
    "\n",
    "    while abs(t_value - objDSP) >= eps\n",
    "\n",
    "        if st == MOI.DUAL_INFEASIBLE\n",
    "            println(\"It is unbounded. Adding feasibility constraint...\")\n",
    "            println(\"-------------------------------------------------\")\n",
    "            replace!(uVal, NaN => 0.0)\n",
    "            @constraint(master, LinearAlgebra.dot(uVal, (b .- A2 * y)) >= 0)\n",
    "\n",
    "        else\n",
    "            println(\"It is optimal. Adding optimality constraint...\")\n",
    "            println(\"-------------------------------------------------\")\n",
    "            replace!(uVal, NaN => 0.0)\n",
    "            @constraint(master, LinearAlgebra.dot(uVal, (b .- A2 * y)) >= t)\n",
    "        end\n",
    "\n",
    "        optimize!(master)\n",
    "        t_value = JuMP.value.(t)\n",
    "        st, u, uVal, objDSP, refCon = DSP(A1, A2, b, c1, value.(y))\n",
    "\n",
    "    end\n",
    "    \n",
    "    # solve the primal subproblem to compare\n",
    "    SP = Model(GLPK.Optimizer)\n",
    "    @variable(SP, x[1:size(A1)[2]] >= 0)\n",
    "    @constraint(SP, A1 * x .<= b .- A2 * value.(y))\n",
    "    @objective(SP, Max, LinearAlgebra.dot(c1, x))\n",
    "    optimize!(SP)\n",
    "    \n",
    "    println(\"y optimal values \\t\\t $(value.(y))\")\n",
    "    println(\"x optimal values \\t\\t $(JuMP.value.(x))\")\n",
    "    println(\"x optimal values using dual \\t $(JuMP.dual.(refCon))\")\n",
    "    println(\"optimal value: \\t \\t \\t $(getobjectivevalue(master))\")\n",
    "    \n",
    "end"
   ]
  },
  {
   "cell_type": "code",
   "execution_count": 22,
   "metadata": {},
   "outputs": [
    {
     "name": "stdout",
     "output_type": "stream",
     "text": [
      "It is unbounded. Adding feasibility constraint...\n",
      "-------------------------------------------------\n",
      "It is optimal. Adding optimality constraint...\n",
      "-------------------------------------------------\n",
      "y optimal values \t\t [1.0, 0.0]\n",
      "x optimal values \t\t [1.0, 1.0, 0.0, 0.0]\n",
      "x optimal values using dual \t [1.0; 1.0; 0.0; 0.0]\n",
      "optimal value: \t \t \t 2.0\n"
     ]
    }
   ],
   "source": [
    "benders(A1 = A1, A2 = A2, b = b, c1 = c1, c2 = c2, eps = 0.001)"
   ]
  },
  {
   "cell_type": "markdown",
   "metadata": {},
   "source": [
    "### Solving original problem"
   ]
  },
  {
   "cell_type": "code",
   "execution_count": 23,
   "metadata": {},
   "outputs": [],
   "source": [
    "num_x = length(c1) \n",
    "num_y = length(c2)\n",
    "\n",
    "original = Model(GLPK.Optimizer)\n",
    "@variable(original, x[1:num_x] >= 0)\n",
    "@variable(original, y[1:num_y] >= 0, Bin)\n",
    "@constraint(original, A1 * x + A2 * y .<= b)\n",
    "@objective(original, Max, LinearAlgebra.dot(c1, x) + LinearAlgebra.dot(c2, y))\n",
    "optimize!(original)"
   ]
  },
  {
   "cell_type": "code",
   "execution_count": 24,
   "metadata": {},
   "outputs": [
    {
     "data": {
      "text/plain": [
       "4-element Array{Float64,1}:\n",
       " 1.0\n",
       " 1.0\n",
       " 0.0\n",
       " 0.0"
      ]
     },
     "execution_count": 24,
     "metadata": {},
     "output_type": "execute_result"
    }
   ],
   "source": [
    "value.(x)"
   ]
  },
  {
   "cell_type": "code",
   "execution_count": 25,
   "metadata": {},
   "outputs": [
    {
     "data": {
      "text/plain": [
       "2-element Array{Float64,1}:\n",
       " 1.0\n",
       " 0.0"
      ]
     },
     "execution_count": 25,
     "metadata": {},
     "output_type": "execute_result"
    }
   ],
   "source": [
    "value.(y)"
   ]
  },
  {
   "cell_type": "code",
   "execution_count": 26,
   "metadata": {},
   "outputs": [
    {
     "data": {
      "text/plain": [
       "2.0"
      ]
     },
     "execution_count": 26,
     "metadata": {},
     "output_type": "execute_result"
    }
   ],
   "source": [
    "getobjectivevalue(original)"
   ]
  },
  {
   "cell_type": "markdown",
   "metadata": {},
   "source": [
    "### Example from T.C. Hu pag. 263\n",
    "Transform problem as described above:\n",
    "- Problem in max form\n",
    "- Constraints less than equal\n"
   ]
  },
  {
   "cell_type": "code",
   "execution_count": 27,
   "metadata": {},
   "outputs": [
    {
     "data": {
      "text/plain": [
       "2×1 Adjoint{Int64,Array{Int64,2}}:\n",
       " -2\n",
       " -2"
      ]
     },
     "execution_count": 27,
     "metadata": {},
     "output_type": "execute_result"
    }
   ],
   "source": [
    "A1 = -[1 4 2]'\n",
    "\n",
    "A2 = -[\n",
    "    3 2;\n",
    "    -1 1;\n",
    "    1 -1\n",
    "    ]\n",
    "\n",
    "b = -[5 7 4]'\n",
    "\n",
    "c1 = -[5]'\n",
    "\n",
    "c2 = -[2 2]'\n"
   ]
  },
  {
   "cell_type": "code",
   "execution_count": 28,
   "metadata": {},
   "outputs": [
    {
     "name": "stdout",
     "output_type": "stream",
     "text": [
      "It is optimal. Adding optimality constraint...\n",
      "-------------------------------------------------\n",
      "It is optimal. Adding optimality constraint...\n",
      "-------------------------------------------------\n",
      "y optimal values \t\t [1.0, 0.0]\n",
      "x optimal values \t\t [2.0]\n",
      "x optimal values using dual \t [2.0]\n",
      "optimal value: \t \t \t -12.0\n"
     ]
    }
   ],
   "source": [
    "benders(A1 = A1, A2 = A2, b = b, c1 = c1, c2 = c2, eps = 0.001)"
   ]
  }
 ],
 "metadata": {
  "kernelspec": {
   "display_name": "Julia 1.5.0",
   "language": "julia",
   "name": "julia-1.5"
  },
  "language_info": {
   "file_extension": ".jl",
   "mimetype": "application/julia",
   "name": "julia",
   "version": "1.5.0"
  }
 },
 "nbformat": 4,
 "nbformat_minor": 4
}
