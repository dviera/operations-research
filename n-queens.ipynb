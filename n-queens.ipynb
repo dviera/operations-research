{
 "cells": [
  {
   "cell_type": "code",
   "execution_count": 1,
   "metadata": {},
   "outputs": [],
   "source": [
    "using JuMP\n",
    "using GLPK\n",
    "using LinearAlgebra"
   ]
  },
  {
   "cell_type": "code",
   "execution_count": 2,
   "metadata": {},
   "outputs": [],
   "source": [
    "n = 8\n",
    "queen_model =  Model(GLPK.Optimizer)\n",
    "@variable(queen_model, x[1:n, 1:n], Bin)\n",
    "@objective(queen_model, Max, sum(x[i,j] for i = 1:n for j = 1:n))\n",
    "@constraint(queen_model, col[j = 1:n], sum(x[i,j] for i = 1:n) <= 1)\n",
    "@constraint(queen_model, row[i = 1:n], sum(x[i,j] for j = 1:n) <= 1)\n",
    "\n",
    "for i in range(-n+1, stop = n-1)\n",
    "    @constraint(queen_model, sum(x .* LinearAlgebra.diagm(i => fill(1, (n - abs(i))))) <= 1)\n",
    "end\n",
    "\n",
    "for i in range(-n+1, stop = n-1)\n",
    "    @constraint(queen_model, sum(x .* reverse(LinearAlgebra.diagm(i => fill(1, (n - abs(i)))), dims = 2)) <= 1)\n",
    "end"
   ]
  },
  {
   "cell_type": "code",
   "execution_count": 3,
   "metadata": {},
   "outputs": [
    {
     "data": {
      "text/latex": [
       "$$ \\begin{alignat*}{1}\\max\\quad & x_{1,1} + x_{1,2} + x_{1,3} + x_{1,4} + x_{1,5} + x_{1,6} + x_{1,7} + x_{1,8} + x_{2,1} + x_{2,2} + x_{2,3} + x_{2,4} + x_{2,5} + x_{2,6} + x_{2,7} + x_{2,8} + x_{3,1} + x_{3,2} + x_{3,3} + x_{3,4} + x_{3,5} + x_{3,6} + x_{3,7} + x_{3,8} + x_{4,1} + x_{4,2} + x_{4,3} + x_{4,4} + x_{4,5} + x_{4,6} + x_{4,7} + x_{4,8} + x_{5,1} + x_{5,2} + x_{5,3} + x_{5,4} + x_{5,5} + x_{5,6} + x_{5,7} + x_{5,8} + x_{6,1} + x_{6,2} + x_{6,3} + x_{6,4} + x_{6,5} + x_{6,6} + x_{6,7} + x_{6,8} + x_{7,1} + x_{7,2} + x_{7,3} + x_{7,4} + x_{7,5} + x_{7,6} + x_{7,7} + x_{7,8} + x_{8,1} + x_{8,2} + x_{8,3} + x_{8,4} + x_{8,5} + x_{8,6} + x_{8,7} + x_{8,8}\\\\\n",
       "\\text{Subject to} \\quad & x_{1,1} + x_{2,1} + x_{3,1} + x_{4,1} + x_{5,1} + x_{6,1} + x_{7,1} + x_{8,1} \\leq 1.0\\\\\n",
       " & x_{1,2} + x_{2,2} + x_{3,2} + x_{4,2} + x_{5,2} + x_{6,2} + x_{7,2} + x_{8,2} \\leq 1.0\\\\\n",
       " & x_{1,3} + x_{2,3} + x_{3,3} + x_{4,3} + x_{5,3} + x_{6,3} + x_{7,3} + x_{8,3} \\leq 1.0\\\\\n",
       " & x_{1,4} + x_{2,4} + x_{3,4} + x_{4,4} + x_{5,4} + x_{6,4} + x_{7,4} + x_{8,4} \\leq 1.0\\\\\n",
       " & x_{1,5} + x_{2,5} + x_{3,5} + x_{4,5} + x_{5,5} + x_{6,5} + x_{7,5} + x_{8,5} \\leq 1.0\\\\\n",
       " & x_{1,6} + x_{2,6} + x_{3,6} + x_{4,6} + x_{5,6} + x_{6,6} + x_{7,6} + x_{8,6} \\leq 1.0\\\\\n",
       " & x_{1,7} + x_{2,7} + x_{3,7} + x_{4,7} + x_{5,7} + x_{6,7} + x_{7,7} + x_{8,7} \\leq 1.0\\\\\n",
       " & x_{1,8} + x_{2,8} + x_{3,8} + x_{4,8} + x_{5,8} + x_{6,8} + x_{7,8} + x_{8,8} \\leq 1.0\\\\\n",
       " & x_{1,1} + x_{1,2} + x_{1,3} + x_{1,4} + x_{1,5} + x_{1,6} + x_{1,7} + x_{1,8} \\leq 1.0\\\\\n",
       " & x_{2,1} + x_{2,2} + x_{2,3} + x_{2,4} + x_{2,5} + x_{2,6} + x_{2,7} + x_{2,8} \\leq 1.0\\\\\n",
       " & x_{3,1} + x_{3,2} + x_{3,3} + x_{3,4} + x_{3,5} + x_{3,6} + x_{3,7} + x_{3,8} \\leq 1.0\\\\\n",
       " & x_{4,1} + x_{4,2} + x_{4,3} + x_{4,4} + x_{4,5} + x_{4,6} + x_{4,7} + x_{4,8} \\leq 1.0\\\\\n",
       " & x_{5,1} + x_{5,2} + x_{5,3} + x_{5,4} + x_{5,5} + x_{5,6} + x_{5,7} + x_{5,8} \\leq 1.0\\\\\n",
       " & x_{6,1} + x_{6,2} + x_{6,3} + x_{6,4} + x_{6,5} + x_{6,6} + x_{6,7} + x_{6,8} \\leq 1.0\\\\\n",
       " & x_{7,1} + x_{7,2} + x_{7,3} + x_{7,4} + x_{7,5} + x_{7,6} + x_{7,7} + x_{7,8} \\leq 1.0\\\\\n",
       " & x_{8,1} + x_{8,2} + x_{8,3} + x_{8,4} + x_{8,5} + x_{8,6} + x_{8,7} + x_{8,8} \\leq 1.0\\\\\n",
       " & x_{8,1} \\leq 1.0\\\\\n",
       " & x_{7,1} + x_{8,2} \\leq 1.0\\\\\n",
       " & x_{6,1} + x_{7,2} + x_{8,3} \\leq 1.0\\\\\n",
       " & x_{5,1} + x_{6,2} + x_{7,3} + x_{8,4} \\leq 1.0\\\\\n",
       " & x_{4,1} + x_{5,2} + x_{6,3} + x_{7,4} + x_{8,5} \\leq 1.0\\\\\n",
       " & x_{3,1} + x_{4,2} + x_{5,3} + x_{6,4} + x_{7,5} + x_{8,6} \\leq 1.0\\\\\n",
       " & x_{2,1} + x_{3,2} + x_{4,3} + x_{5,4} + x_{6,5} + x_{7,6} + x_{8,7} \\leq 1.0\\\\\n",
       " & x_{1,1} + x_{2,2} + x_{3,3} + x_{4,4} + x_{5,5} + x_{6,6} + x_{7,7} + x_{8,8} \\leq 1.0\\\\\n",
       " & x_{1,2} + x_{2,3} + x_{3,4} + x_{4,5} + x_{5,6} + x_{6,7} + x_{7,8} \\leq 1.0\\\\\n",
       " & x_{1,3} + x_{2,4} + x_{3,5} + x_{4,6} + x_{5,7} + x_{6,8} \\leq 1.0\\\\\n",
       " & x_{1,4} + x_{2,5} + x_{3,6} + x_{4,7} + x_{5,8} \\leq 1.0\\\\\n",
       " & x_{1,5} + x_{2,6} + x_{3,7} + x_{4,8} \\leq 1.0\\\\\n",
       " & x_{1,6} + x_{2,7} + x_{3,8} \\leq 1.0\\\\\n",
       " & x_{1,7} + x_{2,8} \\leq 1.0\\\\\n",
       " & x_{1,8} \\leq 1.0\\\\\n",
       " & x_{8,8} \\leq 1.0\\\\\n",
       " & x_{8,7} + x_{7,8} \\leq 1.0\\\\\n",
       " & x_{8,6} + x_{7,7} + x_{6,8} \\leq 1.0\\\\\n",
       " & x_{8,5} + x_{7,6} + x_{6,7} + x_{5,8} \\leq 1.0\\\\\n",
       " & x_{8,4} + x_{7,5} + x_{6,6} + x_{5,7} + x_{4,8} \\leq 1.0\\\\\n",
       " & x_{8,3} + x_{7,4} + x_{6,5} + x_{5,6} + x_{4,7} + x_{3,8} \\leq 1.0\\\\\n",
       " & x_{8,2} + x_{7,3} + x_{6,4} + x_{5,5} + x_{4,6} + x_{3,7} + x_{2,8} \\leq 1.0\\\\\n",
       " & x_{8,1} + x_{7,2} + x_{6,3} + x_{5,4} + x_{4,5} + x_{3,6} + x_{2,7} + x_{1,8} \\leq 1.0\\\\\n",
       " & x_{7,1} + x_{6,2} + x_{5,3} + x_{4,4} + x_{3,5} + x_{2,6} + x_{1,7} \\leq 1.0\\\\\n",
       " & x_{6,1} + x_{5,2} + x_{4,3} + x_{3,4} + x_{2,5} + x_{1,6} \\leq 1.0\\\\\n",
       " & x_{5,1} + x_{4,2} + x_{3,3} + x_{2,4} + x_{1,5} \\leq 1.0\\\\\n",
       " & x_{4,1} + x_{3,2} + x_{2,3} + x_{1,4} \\leq 1.0\\\\\n",
       " & x_{3,1} + x_{2,2} + x_{1,3} \\leq 1.0\\\\\n",
       " & x_{2,1} + x_{1,2} \\leq 1.0\\\\\n",
       " & x_{1,1} \\leq 1.0\\\\\n",
       " & x_{1,1} binary\\\\\n",
       " & x_{2,1} binary\\\\\n",
       " & x_{3,1} binary\\\\\n",
       " & x_{4,1} binary\\\\\n",
       " & x_{5,1} binary\\\\\n",
       " & x_{6,1} binary\\\\\n",
       " & x_{7,1} binary\\\\\n",
       " & x_{8,1} binary\\\\\n",
       " & x_{1,2} binary\\\\\n",
       " & x_{2,2} binary\\\\\n",
       " & x_{3,2} binary\\\\\n",
       " & x_{4,2} binary\\\\\n",
       " & x_{5,2} binary\\\\\n",
       " & x_{6,2} binary\\\\\n",
       " & x_{7,2} binary\\\\\n",
       " & x_{8,2} binary\\\\\n",
       " & x_{1,3} binary\\\\\n",
       " & x_{2,3} binary\\\\\n",
       " & x_{3,3} binary\\\\\n",
       " & x_{4,3} binary\\\\\n",
       " & x_{5,3} binary\\\\\n",
       " & x_{6,3} binary\\\\\n",
       " & x_{7,3} binary\\\\\n",
       " & x_{8,3} binary\\\\\n",
       " & x_{1,4} binary\\\\\n",
       " & x_{2,4} binary\\\\\n",
       " & x_{3,4} binary\\\\\n",
       " & x_{4,4} binary\\\\\n",
       " & x_{5,4} binary\\\\\n",
       " & x_{6,4} binary\\\\\n",
       " & x_{7,4} binary\\\\\n",
       " & x_{8,4} binary\\\\\n",
       " & x_{1,5} binary\\\\\n",
       " & x_{2,5} binary\\\\\n",
       " & x_{3,5} binary\\\\\n",
       " & x_{4,5} binary\\\\\n",
       " & x_{5,5} binary\\\\\n",
       " & x_{6,5} binary\\\\\n",
       " & x_{7,5} binary\\\\\n",
       " & x_{8,5} binary\\\\\n",
       " & x_{1,6} binary\\\\\n",
       " & x_{2,6} binary\\\\\n",
       " & x_{3,6} binary\\\\\n",
       " & x_{4,6} binary\\\\\n",
       " & x_{5,6} binary\\\\\n",
       " & x_{6,6} binary\\\\\n",
       " & x_{7,6} binary\\\\\n",
       " & x_{8,6} binary\\\\\n",
       " & x_{1,7} binary\\\\\n",
       " & x_{2,7} binary\\\\\n",
       " & x_{3,7} binary\\\\\n",
       " & x_{4,7} binary\\\\\n",
       " & x_{5,7} binary\\\\\n",
       " & x_{6,7} binary\\\\\n",
       " & x_{7,7} binary\\\\\n",
       " & x_{8,7} binary\\\\\n",
       " & x_{1,8} binary\\\\\n",
       " & x_{2,8} binary\\\\\n",
       " & x_{3,8} binary\\\\\n",
       " & x_{4,8} binary\\\\\n",
       " & x_{5,8} binary\\\\\n",
       " & x_{6,8} binary\\\\\n",
       " & x_{7,8} binary\\\\\n",
       " & x_{8,8} binary\\\\\n",
       "\\end{alignat*}\n",
       " $$"
      ],
      "text/plain": [
       "A JuMP Model\n",
       "Maximization problem with:\n",
       "Variables: 64\n",
       "Objective function type: GenericAffExpr{Float64,VariableRef}\n",
       "`GenericAffExpr{Float64,VariableRef}`-in-`MathOptInterface.LessThan{Float64}`: 46 constraints\n",
       "`VariableRef`-in-`MathOptInterface.ZeroOne`: 64 constraints\n",
       "Model mode: AUTOMATIC\n",
       "CachingOptimizer state: EMPTY_OPTIMIZER\n",
       "Solver name: GLPK\n",
       "Names registered in the model: col, row, x"
      ]
     },
     "execution_count": 3,
     "metadata": {},
     "output_type": "execute_result"
    }
   ],
   "source": [
    "queen_model"
   ]
  },
  {
   "cell_type": "code",
   "execution_count": 4,
   "metadata": {},
   "outputs": [],
   "source": [
    "JuMP.optimize!(queen_model)"
   ]
  },
  {
   "cell_type": "code",
   "execution_count": 5,
   "metadata": {},
   "outputs": [
    {
     "data": {
      "text/plain": [
       "OPTIMAL::TerminationStatusCode = 1"
      ]
     },
     "execution_count": 5,
     "metadata": {},
     "output_type": "execute_result"
    }
   ],
   "source": [
    "JuMP.termination_status(queen_model)"
   ]
  },
  {
   "cell_type": "code",
   "execution_count": 6,
   "metadata": {},
   "outputs": [
    {
     "data": {
      "text/plain": [
       "8.0"
      ]
     },
     "execution_count": 6,
     "metadata": {},
     "output_type": "execute_result"
    }
   ],
   "source": [
    "JuMP.objective_value(queen_model)"
   ]
  },
  {
   "cell_type": "code",
   "execution_count": 7,
   "metadata": {},
   "outputs": [
    {
     "data": {
      "text/plain": [
       "8×8 Array{Float64,2}:\n",
       " 0.0  0.0  1.0  0.0  0.0  0.0  0.0  0.0\n",
       " 0.0  0.0  0.0  0.0  0.0  1.0  0.0  0.0\n",
       " 0.0  0.0  0.0  0.0  0.0  0.0  0.0  1.0\n",
       " 0.0  1.0  0.0  0.0  0.0  0.0  0.0  0.0\n",
       " 0.0  0.0  0.0  1.0  0.0  0.0  0.0  0.0\n",
       " 1.0  0.0  0.0  0.0  0.0  0.0  0.0  0.0\n",
       " 0.0  0.0  0.0  0.0  0.0  0.0  1.0  0.0\n",
       " 0.0  0.0  0.0  0.0  1.0  0.0  0.0  0.0"
      ]
     },
     "execution_count": 7,
     "metadata": {},
     "output_type": "execute_result"
    }
   ],
   "source": [
    "JuMP.value.(x)"
   ]
  },
  {
   "cell_type": "code",
   "execution_count": 8,
   "metadata": {},
   "outputs": [
    {
     "name": "stdout",
     "output_type": "stream",
     "text": [
      " -  -  👑  -  -  -  -  - \n",
      " -  -  -  -  -  👑  -  - \n",
      " -  -  -  -  -  -  -  👑 \n",
      " -  👑  -  -  -  -  -  - \n",
      " -  -  -  👑  -  -  -  - \n",
      " 👑  -  -  -  -  -  -  - \n",
      " -  -  -  -  -  -  👑  - \n",
      " -  -  -  -  👑  -  -  - \n"
     ]
    }
   ],
   "source": [
    "\n",
    "for i in 1:n\n",
    "    for j in 1:n\n",
    "        if JuMP.value.(x)[i,j] != 0\n",
    "            print(\" \", :👑, \" \")\n",
    "        else\n",
    "            print(\" \", \"-\" , \" \")\n",
    "        end\n",
    "    end\n",
    "    println()\n",
    "end"
   ]
  },
  {
   "cell_type": "code",
   "execution_count": null,
   "metadata": {},
   "outputs": [],
   "source": []
  }
 ],
 "metadata": {
  "kernelspec": {
   "display_name": "Julia 1.5.0",
   "language": "julia",
   "name": "julia-1.5"
  },
  "language_info": {
   "file_extension": ".jl",
   "mimetype": "application/julia",
   "name": "julia",
   "version": "1.5.0"
  }
 },
 "nbformat": 4,
 "nbformat_minor": 4
}
